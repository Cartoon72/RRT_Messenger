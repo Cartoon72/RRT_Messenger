{
  "cells": [
    {
      "cell_type": "markdown",
      "metadata": {
        "id": "view-in-github",
        "colab_type": "text"
      },
      "source": [
        "<a href=\"https://colab.research.google.com/github/Cartoon72/RRT_Messenger/blob/main/Untitled0.ipynb\" target=\"_parent\"><img src=\"https://colab.research.google.com/assets/colab-badge.svg\" alt=\"Open In Colab\"/></a>"
      ]
    },
    {
      "cell_type": "code",
      "execution_count": 2,
      "metadata": {
        "colab": {
          "base_uri": "https://localhost:8080/"
        },
        "id": "n10imr8cIIVo",
        "outputId": "56207b88-ccbc-48ae-9b49-bcf29255d763"
      },
      "outputs": [
        {
          "output_type": "stream",
          "name": "stdout",
          "text": [
            "Collecting flask-ngrok\n",
            "  Downloading flask_ngrok-0.0.25-py3-none-any.whl (3.1 kB)\n",
            "Requirement already satisfied: requests in /usr/local/lib/python3.7/dist-packages (from flask-ngrok) (2.23.0)\n",
            "Requirement already satisfied: Flask>=0.8 in /usr/local/lib/python3.7/dist-packages (from flask-ngrok) (1.1.4)\n",
            "Requirement already satisfied: itsdangerous<2.0,>=0.24 in /usr/local/lib/python3.7/dist-packages (from Flask>=0.8->flask-ngrok) (1.1.0)\n",
            "Requirement already satisfied: Jinja2<3.0,>=2.10.1 in /usr/local/lib/python3.7/dist-packages (from Flask>=0.8->flask-ngrok) (2.11.3)\n",
            "Requirement already satisfied: Werkzeug<2.0,>=0.15 in /usr/local/lib/python3.7/dist-packages (from Flask>=0.8->flask-ngrok) (1.0.1)\n",
            "Requirement already satisfied: click<8.0,>=5.1 in /usr/local/lib/python3.7/dist-packages (from Flask>=0.8->flask-ngrok) (7.1.2)\n",
            "Requirement already satisfied: MarkupSafe>=0.23 in /usr/local/lib/python3.7/dist-packages (from Jinja2<3.0,>=2.10.1->Flask>=0.8->flask-ngrok) (2.0.1)\n",
            "Requirement already satisfied: certifi>=2017.4.17 in /usr/local/lib/python3.7/dist-packages (from requests->flask-ngrok) (2021.10.8)\n",
            "Requirement already satisfied: idna<3,>=2.5 in /usr/local/lib/python3.7/dist-packages (from requests->flask-ngrok) (2.10)\n",
            "Requirement already satisfied: chardet<4,>=3.0.2 in /usr/local/lib/python3.7/dist-packages (from requests->flask-ngrok) (3.0.4)\n",
            "Requirement already satisfied: urllib3!=1.25.0,!=1.25.1,<1.26,>=1.21.1 in /usr/local/lib/python3.7/dist-packages (from requests->flask-ngrok) (1.24.3)\n",
            "Installing collected packages: flask-ngrok\n",
            "Successfully installed flask-ngrok-0.0.25\n"
          ]
        }
      ],
      "source": [
        "!pip install flask-ngrok"
      ]
    },
    {
      "cell_type": "code",
      "execution_count": 3,
      "metadata": {
        "colab": {
          "base_uri": "https://localhost:8080/"
        },
        "id": "hpw1zrrF7Ntn",
        "outputId": "fc305087-5a98-4578-ac0a-22e2ce031911"
      },
      "outputs": [
        {
          "output_type": "stream",
          "name": "stdout",
          "text": [
            "Collecting pyngrok\n",
            "  Downloading pyngrok-5.1.0.tar.gz (745 kB)\n",
            "\u001b[?25l\r\u001b[K     |▍                               | 10 kB 25.8 MB/s eta 0:00:01\r\u001b[K     |▉                               | 20 kB 32.9 MB/s eta 0:00:01\r\u001b[K     |█▎                              | 30 kB 16.1 MB/s eta 0:00:01\r\u001b[K     |█▊                              | 40 kB 11.7 MB/s eta 0:00:01\r\u001b[K     |██▏                             | 51 kB 8.8 MB/s eta 0:00:01\r\u001b[K     |██▋                             | 61 kB 9.2 MB/s eta 0:00:01\r\u001b[K     |███                             | 71 kB 7.5 MB/s eta 0:00:01\r\u001b[K     |███▌                            | 81 kB 8.3 MB/s eta 0:00:01\r\u001b[K     |████                            | 92 kB 7.5 MB/s eta 0:00:01\r\u001b[K     |████▍                           | 102 kB 8.1 MB/s eta 0:00:01\r\u001b[K     |████▉                           | 112 kB 8.1 MB/s eta 0:00:01\r\u001b[K     |█████▎                          | 122 kB 8.1 MB/s eta 0:00:01\r\u001b[K     |█████▊                          | 133 kB 8.1 MB/s eta 0:00:01\r\u001b[K     |██████▏                         | 143 kB 8.1 MB/s eta 0:00:01\r\u001b[K     |██████▋                         | 153 kB 8.1 MB/s eta 0:00:01\r\u001b[K     |███████                         | 163 kB 8.1 MB/s eta 0:00:01\r\u001b[K     |███████▌                        | 174 kB 8.1 MB/s eta 0:00:01\r\u001b[K     |████████                        | 184 kB 8.1 MB/s eta 0:00:01\r\u001b[K     |████████▍                       | 194 kB 8.1 MB/s eta 0:00:01\r\u001b[K     |████████▉                       | 204 kB 8.1 MB/s eta 0:00:01\r\u001b[K     |█████████▎                      | 215 kB 8.1 MB/s eta 0:00:01\r\u001b[K     |█████████▊                      | 225 kB 8.1 MB/s eta 0:00:01\r\u001b[K     |██████████▏                     | 235 kB 8.1 MB/s eta 0:00:01\r\u001b[K     |██████████▌                     | 245 kB 8.1 MB/s eta 0:00:01\r\u001b[K     |███████████                     | 256 kB 8.1 MB/s eta 0:00:01\r\u001b[K     |███████████▍                    | 266 kB 8.1 MB/s eta 0:00:01\r\u001b[K     |███████████▉                    | 276 kB 8.1 MB/s eta 0:00:01\r\u001b[K     |████████████▎                   | 286 kB 8.1 MB/s eta 0:00:01\r\u001b[K     |████████████▊                   | 296 kB 8.1 MB/s eta 0:00:01\r\u001b[K     |█████████████▏                  | 307 kB 8.1 MB/s eta 0:00:01\r\u001b[K     |█████████████▋                  | 317 kB 8.1 MB/s eta 0:00:01\r\u001b[K     |██████████████                  | 327 kB 8.1 MB/s eta 0:00:01\r\u001b[K     |██████████████▌                 | 337 kB 8.1 MB/s eta 0:00:01\r\u001b[K     |███████████████                 | 348 kB 8.1 MB/s eta 0:00:01\r\u001b[K     |███████████████▍                | 358 kB 8.1 MB/s eta 0:00:01\r\u001b[K     |███████████████▉                | 368 kB 8.1 MB/s eta 0:00:01\r\u001b[K     |████████████████▎               | 378 kB 8.1 MB/s eta 0:00:01\r\u001b[K     |████████████████▊               | 389 kB 8.1 MB/s eta 0:00:01\r\u001b[K     |█████████████████▏              | 399 kB 8.1 MB/s eta 0:00:01\r\u001b[K     |█████████████████▋              | 409 kB 8.1 MB/s eta 0:00:01\r\u001b[K     |██████████████████              | 419 kB 8.1 MB/s eta 0:00:01\r\u001b[K     |██████████████████▌             | 430 kB 8.1 MB/s eta 0:00:01\r\u001b[K     |███████████████████             | 440 kB 8.1 MB/s eta 0:00:01\r\u001b[K     |███████████████████▍            | 450 kB 8.1 MB/s eta 0:00:01\r\u001b[K     |███████████████████▉            | 460 kB 8.1 MB/s eta 0:00:01\r\u001b[K     |████████████████████▎           | 471 kB 8.1 MB/s eta 0:00:01\r\u001b[K     |████████████████████▋           | 481 kB 8.1 MB/s eta 0:00:01\r\u001b[K     |█████████████████████           | 491 kB 8.1 MB/s eta 0:00:01\r\u001b[K     |█████████████████████▌          | 501 kB 8.1 MB/s eta 0:00:01\r\u001b[K     |██████████████████████          | 512 kB 8.1 MB/s eta 0:00:01\r\u001b[K     |██████████████████████▍         | 522 kB 8.1 MB/s eta 0:00:01\r\u001b[K     |██████████████████████▉         | 532 kB 8.1 MB/s eta 0:00:01\r\u001b[K     |███████████████████████▎        | 542 kB 8.1 MB/s eta 0:00:01\r\u001b[K     |███████████████████████▊        | 552 kB 8.1 MB/s eta 0:00:01\r\u001b[K     |████████████████████████▏       | 563 kB 8.1 MB/s eta 0:00:01\r\u001b[K     |████████████████████████▋       | 573 kB 8.1 MB/s eta 0:00:01\r\u001b[K     |█████████████████████████       | 583 kB 8.1 MB/s eta 0:00:01\r\u001b[K     |█████████████████████████▌      | 593 kB 8.1 MB/s eta 0:00:01\r\u001b[K     |██████████████████████████      | 604 kB 8.1 MB/s eta 0:00:01\r\u001b[K     |██████████████████████████▍     | 614 kB 8.1 MB/s eta 0:00:01\r\u001b[K     |██████████████████████████▉     | 624 kB 8.1 MB/s eta 0:00:01\r\u001b[K     |███████████████████████████▎    | 634 kB 8.1 MB/s eta 0:00:01\r\u001b[K     |███████████████████████████▊    | 645 kB 8.1 MB/s eta 0:00:01\r\u001b[K     |████████████████████████████▏   | 655 kB 8.1 MB/s eta 0:00:01\r\u001b[K     |████████████████████████████▋   | 665 kB 8.1 MB/s eta 0:00:01\r\u001b[K     |█████████████████████████████   | 675 kB 8.1 MB/s eta 0:00:01\r\u001b[K     |█████████████████████████████▌  | 686 kB 8.1 MB/s eta 0:00:01\r\u001b[K     |██████████████████████████████  | 696 kB 8.1 MB/s eta 0:00:01\r\u001b[K     |██████████████████████████████▍ | 706 kB 8.1 MB/s eta 0:00:01\r\u001b[K     |██████████████████████████████▊ | 716 kB 8.1 MB/s eta 0:00:01\r\u001b[K     |███████████████████████████████▏| 727 kB 8.1 MB/s eta 0:00:01\r\u001b[K     |███████████████████████████████▋| 737 kB 8.1 MB/s eta 0:00:01\r\u001b[K     |████████████████████████████████| 745 kB 8.1 MB/s \n",
            "\u001b[?25hRequirement already satisfied: PyYAML in /usr/local/lib/python3.7/dist-packages (from pyngrok) (3.13)\n",
            "Building wheels for collected packages: pyngrok\n",
            "  Building wheel for pyngrok (setup.py) ... \u001b[?25l\u001b[?25hdone\n",
            "  Created wheel for pyngrok: filename=pyngrok-5.1.0-py3-none-any.whl size=19007 sha256=e04131f38e9438854f87e803f20f722da9a380c22b369c68848e870d3acd8a85\n",
            "  Stored in directory: /root/.cache/pip/wheels/bf/e6/af/ccf6598ecefecd44104069371795cb9b3afbcd16987f6ccfb3\n",
            "Successfully built pyngrok\n",
            "Installing collected packages: pyngrok\n",
            "Successfully installed pyngrok-5.1.0\n"
          ]
        }
      ],
      "source": [
        "!pip install pyngrok"
      ]
    },
    {
      "cell_type": "code",
      "execution_count": 4,
      "metadata": {
        "colab": {
          "base_uri": "https://localhost:8080/"
        },
        "id": "xttsb6AV74Ty",
        "outputId": "31710a7d-4b55-4774-9b46-e54dcc6f0549"
      },
      "outputs": [
        {
          "output_type": "stream",
          "name": "stdout",
          "text": [
            "Authtoken saved to configuration file: /root/.ngrok2/ngrok.yml\n"
          ]
        }
      ],
      "source": [
        "! ngrok authtoken 22XSL4Dw9jEDmIcpdwXCBz4cB1U_7SBHFQtbjGvDNDNq2di3q"
      ]
    },
    {
      "cell_type": "code",
      "execution_count": 5,
      "metadata": {
        "id": "7ymJWH5Z8dnP"
      },
      "outputs": [],
      "source": [
        "from pyngrok import ngrok"
      ]
    },
    {
      "cell_type": "code",
      "execution_count": 6,
      "metadata": {
        "colab": {
          "base_uri": "https://localhost:8080/"
        },
        "id": "OAeq30uDPQwM",
        "outputId": "031009f6-62f5-4517-9f17-93734c1f635f"
      },
      "outputs": [
        {
          "output_type": "stream",
          "name": "stdout",
          "text": [
            "\u001b[K     |████████████████████████████████| 3.4 MB 7.5 MB/s \n",
            "\u001b[K     |████████████████████████████████| 895 kB 64.3 MB/s \n",
            "\u001b[K     |████████████████████████████████| 67 kB 4.9 MB/s \n",
            "\u001b[K     |████████████████████████████████| 3.3 MB 35.4 MB/s \n",
            "\u001b[K     |████████████████████████████████| 596 kB 24.0 MB/s \n",
            "\u001b[?25h"
          ]
        }
      ],
      "source": [
        "!pip install -q transformers"
      ]
    },
    {
      "cell_type": "code",
      "execution_count": 7,
      "metadata": {
        "id": "ADdfCJ--Phpr"
      },
      "outputs": [],
      "source": [
        "!pip install -q youtube_transcript_api"
      ]
    },
    {
      "cell_type": "code",
      "execution_count": 8,
      "metadata": {
        "id": "mmD1NUr5QRqb"
      },
      "outputs": [],
      "source": [
        "from transformers import pipeline\n",
        "from youtube_transcript_api import YouTubeTranscriptApi"
      ]
    },
    {
      "cell_type": "code",
      "execution_count": null,
      "metadata": {
        "colab": {
          "base_uri": "https://localhost:8080/"
        },
        "id": "P8g4nk2FNKUL",
        "outputId": "82a9dcd9-940c-4059-c7a3-9028b0caac1a"
      },
      "outputs": [
        {
          "output_type": "stream",
          "name": "stdout",
          "text": [
            " * Serving Flask app \"__main__\" (lazy loading)\n",
            " * Environment: production\n",
            "\u001b[31m   WARNING: This is a development server. Do not use it in a production deployment.\u001b[0m\n",
            "\u001b[2m   Use a production WSGI server instead.\u001b[0m\n",
            " * Debug mode: off\n"
          ]
        },
        {
          "output_type": "stream",
          "name": "stderr",
          "text": [
            " * Running on http://127.0.0.1:5000/ (Press CTRL+C to quit)\n"
          ]
        },
        {
          "output_type": "stream",
          "name": "stdout",
          "text": [
            " * Running on http://a7b2-35-233-208-97.ngrok.io\n",
            " * Traffic stats available on http://127.0.0.1:4040\n"
          ]
        },
        {
          "output_type": "stream",
          "name": "stderr",
          "text": [
            "127.0.0.1 - - [21/Jan/2022 16:25:09] \"\u001b[37mGET / HTTP/1.1\u001b[0m\" 200 -\n",
            "127.0.0.1 - - [21/Jan/2022 16:25:17] \"\u001b[37mGET / HTTP/1.1\u001b[0m\" 200 -\n",
            "127.0.0.1 - - [21/Jan/2022 16:25:17] \"\u001b[33mGET /favicon.ico HTTP/1.1\u001b[0m\" 404 -\n",
            "No model was supplied, defaulted to sshleifer/distilbart-cnn-12-6 (https://huggingface.co/sshleifer/distilbart-cnn-12-6)\n"
          ]
        },
        {
          "output_type": "stream",
          "name": "stdout",
          "text": [
            "input text \n",
            " for germany it's the end of an era and as europe's biggest economy there are some huge challenges ahead from its increasingly complex relationship with china to climate change all eyes will be on how germany's new leaders grapple with these issues but there's one german industry that reveals a lot about the country's prospects it's cars traditionally the car industry here has been very powerful there have been open doors to german ministries to the chancellory germany's car industry is a vital part of its economy with links to government that go back decades how this world-renowned motor industry navigates the challenges ahead could tell you more than you think about germany's future [Music] the curves the precision it's cutting-edge engineering like this that has helped place car makers at the heart of the german economy and the industry has proved a bellwether for the country's future prospects too since the 70s car exports have risen with germany's wealth and influence manufacturin\n",
            "Summarized text\n",
            " For germany it's the end of an era and as europe's biggest economy there are some huge challenges ahead . There's one german industry that reveals a lot about the country's prospects it's cars traditionally the car industry here has been very powerful there have been open doors to german ministries to the chancellory .\n",
            "input text \n",
            "g is incredibly important in germany it represents around 18 percent of gdp and of course the car sector represents a very large part of that it's not quite you know where the car industry goes germany goes but the sector is absolutely crucial to the future of germany and the future of its industrial model but that industrial model could be under threat after over half a century of global dominance german car makers are now playing catch-up and it's not just the car industry that's losing ground [Music] in 2000 seven of the world's most valuable companies were german but in the past two decades that number has fallen to just three how germany's car makers attempt to claw back global market share could be telling for the economy as a whole [Music] take international relations almost half of germany's gdp comes from exports cars make up the biggest proportion of this who germany sells cars to matters it can point to alliances or trouble brewing since 2016 china has been germany's biggest\n",
            "Summarized text\n",
            " After over half a century of global dominance german car makers are now playing catch-up . In 2000 seven of the world's most valuable companies were german but in the past two decades that number has fallen to just three . In 2016 china has been germany's biggest export market since 2016 .\n",
            "input text \n",
            " trading partner [Music] in 1998 german trade with china was worth 16 billion dollars now it's worth over 180 billion but there's a fear that germany could have become too reliant on the chinese market for the past 16 years angela merkel has courted china in the name of trade it's an approach that has its risks particularly now we're in this context of this emerging systemic competition between america and china at least for some people there's a worry for putting all of your eggs into the chinese basket might leave you exposed to some of the ill winds of geopolitics and geoeconomics that might be heading germany and europe's way in the coming years there is a strong sense that germany's china policy is going to have to be recalibrated basically on pretty much every single front germany's new leader will face the same challenge as its car industry how to keep their biggest trading partner on side without ending up in its pocket china already leads germany in one crucial aspect of manuf\n",
            "Summarized text\n",
            " In 1998 german trade with china was worth 16 billion dollars dollars now it's worth over 180 billion dollars . There's a fear that germany could have become too reliant on the chinese market for the past 16 years angela merkel has courted china in the name of trade .\n",
            "input text \n",
            "acturing digitalization this is not traditionally a country that has been closely associated with digital innovation it's going to be a big challenge across the whole range of domains we look at car makers and it's you know traditionally engineers have been at the heart of what it is that car manufacturers do making components fitting them together making them look beautiful the digital skill set has traditionally taken a back seat and that's going to have to change and it's not just germany's car industry that needs to modernize before the pandemic two-thirds of german businesses said they still regularly used a fax machine and only one in three german companies have a central digital strategy just eight years ago angela merkel became a meme when she referred to the internet as noiland the german for unchartered territory the next government is probably going to have to be a lot more digitally literate than the ones that angela merkel has led for the last 16 years and it's going to ha\n",
            "Summarized text\n",
            " Two-thirds of german businesses said they still regularly used a fax machine and only one in three german companies have a central digital strategy . The next government is probably going to have to be a lot more digitally literate than the ones that angela merkel has led for the last 16 years .\n",
            "input text \n",
            "ve to do a hell of a lot more to translate the rhetoric on digitalization into the reality of fostering genuine change in this country which has been severely lacking for the last couple of decades but there's an even greater challenge that could define germany's global relevance climate change here germany's car industry is a microcosm for how the country will need to radically shift traditional forms of power will need to be replaced for cars that means a race to go electric mobility is a great consensus oliver zipsa took over as ceo of bmw in 2019 he's overseeing one of the biggest shifts in the company's history a commitment to battery-powered cars the whole car industry is launching a lot of electric vehicles now and bmw is on the forefront of that i think we need to speed up our efforts to keep up with the electric mobility demand it's a big market developing of course we want to increase our profitability and with the right set of components products i think that can be a very s\n",
            "Summarized text\n",
            " Germany's car industry is a microcosm for how the country will need to radically shift traditional forms of power to be replaced for cars . oliver zipsa took over as ceo of bmw in 2019 he's overseeing one of the biggest shifts in the company's history a commitment to battery-powered cars .\n",
            "input text \n",
            "olid business foundation climate change has forced this shift to a greener future but it was american not german engineering that first realized it an electric car can be the best car in the world although an early investor in electric technology bmw has now fallen behind rivals in the e-car market other german car makers were slower still when it comes to fostering innovation the country is still in second gear [Music] although disruptive innovation does exist here germany's leaders could do more to nurture it let's see the acceleration right that's good sono motors is a startup based in munich they're technically car makers but their approach is light years away from the traditional brands what we are doing is we producing an electric vehicle that is equipped with solar cells [Music] they're one of several developers around the world trying to get a solar powered vehicle to market their car the scion can share power with the grid and other cars and comes with ride sharing software bu\n",
            "Summarized text\n",
            " Sono motors is a startup based in munich that is producing an electric vehicle that is equipped with solar cells . The scion can share power with the grid and other cars and comes with ride sharing software . Although disruptive innovation does exist here germany's leaders could do more to nurture it .\n",
            "input text \n",
            "ilt in [Music] their claim is that they're the only car company that thinks the industry should be selling fewer cars their approach could upend the industry and their ethos is emblematic of a new way of german thinking we see ourselves as a mobility service provider it's not only about the car it's about the whole new mobility concept we're providing caching ride sharing power sharing a car itself solar integration solar technology we sell to others there's a whole new approach on how we think mobility should look like in the future small companies like sono have the vision for a greener future but germany's politics may make it hard to realize one of the challenges i think that you're going to see in germany is that the next coalition is probably going to be made up of three different parties that may well have very different ideas about how to manage the climate transition the sort of consensus-oriented approach that's deeply ingrained in germany may not look like it is particularly\n",
            "Summarized text\n",
            " Sono have vision for a greener future but germany's politics may make it hard to realize . The next coalition is probably going to be made up of three different parties that may well have very different ideas about how to manage the climate transition . Sono's ethos is emblematic of a new way of german thinking we see ourselves as a mobility service provider .\n",
            "input text \n",
            " well suited to manage this extraordinary industrial transition that we're going to have to bring about in the years ahead so that's going to mean a very very big role to the next chancellor and as efforts to digitize continue germany's new leader should plan for a workforce in need of upskilling [Music] we're going to have a massive ramp up of jobs in the battery manufacturing sector we're going to have a huge demand for coders sort of digital skills and competent decline in the demand for engineering skills that we've seen and as china's mic grows germany will have to be more careful about who it gets into bed with one of the things i think for example that you're going to see in the next legislative period is real investment in europe's ability to stand on its own two feet to ensure that it is not excessively exposed to the risks that could come from a stepping up of the strategic competition between america and china angela merkel was careful not to scare voters with talk of transf\n",
            "Summarized text\n",
            " Angela Merkel's new leader should plan for a workforce in need of upskilling [Music] We're going to have a massive ramp up of jobs in the battery manufacturing sector and a huge demand for coders sort of digital skills and competent decline in the demand for engineering skills that we've seen . As china's mic grows germany will have to be more careful about who it gets into bed with .\n",
            "input text \n",
            "ormation but that's left germany's new leaders with a lot to do germany has to do better right we have those very big companies those very big players here but they aren't the disrupter the driver behind innovation disruption comes always from new young companies which drive change german startups rarely grow into tech giants without making changes germany risks losing competitiveness throughout its economy there's a nice german word zuccumbed feyer kite which is roughly translated as the ability to face the future a lot of people looking at these challenges of starting to wonder how the const fake germany really is and this really is going to be a big challenge not only for the next chancellor but for the government that he or she is going to lead because a lot of people think that germany isn't really ready and that it will need to act quite quickly across a whole range of domains in order to meet these challenges head on thanks for watching to read the economist's assessment of germ\n"
          ]
        },
        {
          "output_type": "stream",
          "name": "stderr",
          "text": [
            "Your max_length is set to 142, but you input_length is only 20. You might consider decreasing max_length manually, e.g. summarizer('...', max_length=10)\n"
          ]
        },
        {
          "output_type": "stream",
          "name": "stdout",
          "text": [
            "Summarized text\n",
            " The economist's assessment of germ. ormation says germany has to do better right we have very big companies those very big players here but they aren't the disrupter . The driver behind innovation disruption comes always from new young companies which drive change german startups rarely grow into tech giants without making changes .\n",
            "input text \n",
            "any's future after angela merkel click the link and don't forget to subscribe you\n"
          ]
        },
        {
          "output_type": "stream",
          "name": "stderr",
          "text": [
            "127.0.0.1 - - [21/Jan/2022 16:27:07] \"\u001b[37mPOST / HTTP/1.1\u001b[0m\" 200 -\n"
          ]
        },
        {
          "output_type": "stream",
          "name": "stdout",
          "text": [
            "Summarized text\n",
            " any's future after angela merkel click the link and don't forget to subscribe you to the Daily Mail . any of us will be happy to see the future of Angela Merkel in the U.S. after Angela . Merkel's future is in the hands of Angela Merkel . any . merkel .\n"
          ]
        },
        {
          "output_type": "stream",
          "name": "stderr",
          "text": [
            "127.0.0.1 - - [21/Jan/2022 18:25:37] \"\u001b[37mGET / HTTP/1.1\u001b[0m\" 200 -\n",
            "127.0.0.1 - - [21/Jan/2022 18:25:44] \"\u001b[37mGET / HTTP/1.1\u001b[0m\" 200 -\n"
          ]
        }
      ],
      "source": [
        "from flask import Flask, render_template, request, redirect,jsonify\n",
        "from flask_ngrok import run_with_ngrok\n",
        "app = Flask(__name__)\n",
        "run_with_ngrok(app)   \n",
        "  \n",
        "\n",
        "\n",
        "@app.route('/')\n",
        "def form():\n",
        "    return render_template('form.html')\n",
        "\n",
        "@app.route('/', methods=['POST', 'GET'])\n",
        "def GetUrl():\n",
        "    url = request.form.get('url')\n",
        "    response = GetTranscript(url)\n",
        "    return jsonify(response)\n",
        "\n",
        "def GetTranscript(url):\n",
        "    vd_id = url.split(\"=\")[1]\n",
        "    transcript= YouTubeTranscriptApi.get_transcript(vd_id)\n",
        "    result = \"\"\n",
        "    for i in transcript:\n",
        "        result = result + ' ' + i['text']\n",
        "    summarizer = pipeline('summarization')\n",
        "    num_iters = int(len(result)/1000)\n",
        "    summarized_text = []\n",
        "    for i in range(0, num_iters + 1):\n",
        "      start = 0\n",
        "      start = i * 1000\n",
        "      end = (i + 1) * 1000\n",
        "      print(\"input text \\n\" + result[start:end])\n",
        "      out = summarizer(result[start:end])\n",
        "      out = out[0]\n",
        "      out = out['summary_text']\n",
        "      print(\"Summarized text\\n\"+out)\n",
        "      summarized_text.append(out)\n",
        "    return summarized_text\n",
        "\n",
        "\n",
        "\n",
        "    \n",
        "\n",
        "\n",
        "\n",
        "       \n",
        "app.run()"
      ]
    },
    {
      "cell_type": "code",
      "execution_count": 9,
      "metadata": {
        "id": "z1NGkM7dHDK8"
      },
      "outputs": [],
      "source": [
        ""
      ]
    },
    {
      "cell_type": "code",
      "execution_count": 9,
      "metadata": {
        "id": "KAV2fuBx7LUE"
      },
      "outputs": [],
      "source": [
        ""
      ]
    }
  ],
  "metadata": {
    "colab": {
      "collapsed_sections": [],
      "name": "Untitled0.ipynb",
      "provenance": [],
      "mount_file_id": "1zA6bntEJ6lJOq7fLeIRjN8WAbl3tAqyj",
      "authorship_tag": "ABX9TyO45Q/8zDIxy0of3z0nJyMt",
      "include_colab_link": true
    },
    "kernelspec": {
      "display_name": "Python 3",
      "name": "python3"
    },
    "language_info": {
      "name": "python"
    }
  },
  "nbformat": 4,
  "nbformat_minor": 0
}